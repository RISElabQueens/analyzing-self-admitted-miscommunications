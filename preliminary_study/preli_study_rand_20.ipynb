{
 "cells": [
  {
   "cell_type": "code",
   "execution_count": null,
   "metadata": {},
   "outputs": [],
   "source": [
    "import pandas as pd"
   ]
  },
  {
   "cell_type": "code",
   "execution_count": null,
   "metadata": {},
   "outputs": [],
   "source": [
    "df = pd.read_excel(\"all_issues_sampled.xlsx\")"
   ]
  },
  {
   "cell_type": "code",
   "execution_count": null,
   "metadata": {},
   "outputs": [],
   "source": [
    "df"
   ]
  },
  {
   "cell_type": "code",
   "execution_count": null,
   "metadata": {},
   "outputs": [],
   "source": [
    "miscommunication_counts=df['Types of miscommunication'].value_counts()\n"
   ]
  },
  {
   "cell_type": "code",
   "execution_count": null,
   "metadata": {},
   "outputs": [],
   "source": [
    "# Separate the 'No miscommunication' from the rest\n",
    "no_miscommunication_count = miscommunication_counts['No miscommunication']\n",
    "total_with_miscommunication = 364 - no_miscommunication_count\n",
    "\n",
    "# Exclude 'No miscommunication' and calculate the percentage of each type of miscommunication\n",
    "miscommunication_only = miscommunication_counts.drop('No miscommunication')\n",
    "miscommunication_percentage = (miscommunication_only / total_with_miscommunication) * 100\n",
    "\n"
   ]
  },
  {
   "cell_type": "code",
   "execution_count": null,
   "metadata": {},
   "outputs": [],
   "source": [
    "# Set the seed for reproducibility\n",
    "import numpy as np\n",
    "\n",
    "np.random.seed(420)\n",
    "\n",
    "# Filter out the rows with 'No miscommunication' label\n",
    "no_miscommunication_df = df[df['Types of miscommunication'] == 'No miscommunication']\n",
    "\n",
    "# Randomly select 20 issues\n",
    "random_sample = no_miscommunication_df.sample(n=20, random_state=420)\n",
    "random_sample\n",
    "\n"
   ]
  }
 ],
 "metadata": {
  "kernelspec": {
   "display_name": "Python 3",
   "language": "python",
   "name": "python3"
  },
  "language_info": {
   "codemirror_mode": {
    "name": "ipython",
    "version": 3
   },
   "file_extension": ".py",
   "mimetype": "text/x-python",
   "name": "python",
   "nbconvert_exporter": "python",
   "pygments_lexer": "ipython3",
   "version": "3.10.7"
  }
 },
 "nbformat": 4,
 "nbformat_minor": 2
}
