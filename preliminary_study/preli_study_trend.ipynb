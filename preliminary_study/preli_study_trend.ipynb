{
 "cells": [
  {
   "cell_type": "code",
   "execution_count": null,
   "metadata": {},
   "outputs": [],
   "source": [
    "import pandas as pd"
   ]
  },
  {
   "cell_type": "code",
   "execution_count": null,
   "metadata": {},
   "outputs": [],
   "source": [
    "main_df = pd.read_excel('all_issues.xlsx')"
   ]
  },
  {
   "cell_type": "code",
   "execution_count": null,
   "metadata": {},
   "outputs": [],
   "source": [
    "main_df"
   ]
  },
  {
   "cell_type": "code",
   "execution_count": null,
   "metadata": {},
   "outputs": [],
   "source": [
    "main_df.columns"
   ]
  },
  {
   "cell_type": "code",
   "execution_count": null,
   "metadata": {},
   "outputs": [],
   "source": [
    "import datetime\n",
    "main_df['created_at'] = pd.to_datetime(main_df['created_at'], errors='coerce')\n",
    "\n",
    "main_df['created_year'] = main_df['created_at'].dt.year\n",
    "\n",
    "# Group by year and count the number of issues for each year\n",
    "trend_analysis = main_df['created_year'].value_counts().sort_index().reset_index()\n",
    "trend_analysis.columns = ['Year', 'Number of issues']\n",
    "\n",
    "# Calculate the percentage of total issues for each year\n",
    "total_issues = trend_analysis['Number of issues'].sum()\n",
    "trend_analysis['% of Total issues'] = (trend_analysis['Number of issues'] / total_issues) * 100\n",
    "\n",
    "# Calculate the percentage change in the number of issues per year\n",
    "trend_analysis['% Change per year in issues'] = trend_analysis['Number of issues'].pct_change() * 100\n",
    "# Display the trend analysis\n",
    "\n",
    "trend_analysis"
   ]
  },
  {
   "cell_type": "code",
   "execution_count": null,
   "metadata": {},
   "outputs": [],
   "source": [
    "# Calculate the number of unique repositories involved each year using the 'repository' column\n",
    "repos_per_year = main_df.groupby('created_year')['repository'].nunique().reset_index()\n",
    "repos_per_year.columns = ['Year', 'Number of repos']\n",
    "\n",
    "# Merge with the trend_analysis dataframe\n",
    "trend_analysis = trend_analysis.merge(repos_per_year, on='Year', how='left')\n",
    "\n",
    "# Calculate the percentage of repositories involved each year\n",
    "total_repos = main_df['repository'].nunique()\n",
    "trend_analysis['% of Repos involved'] = (trend_analysis['Number of repos'] / total_repos) * 100\n",
    "trend_analysis['% Change in repos per year'] = trend_analysis['Number of repos'].pct_change() * 100\n",
    "\n",
    "\n",
    "trend_analysis\n"
   ]
  },
  {
   "cell_type": "code",
   "execution_count": null,
   "metadata": {},
   "outputs": [],
   "source": [
    "import matplotlib.pyplot as plt\n",
    "\n",
    "# Plot the trend analysis\n",
    "plt.figure(figsize=(10, 6))\n",
    "plt.plot(trend_analysis['Year'], trend_analysis['Number of issues'], marker='o')\n",
    "plt.title('Trend Analysis of Issues Over Years')\n",
    "plt.xlabel('Year')\n",
    "plt.ylabel('Number of Issues')\n",
    "plt.grid(True)\n",
    "plt.xticks(trend_analysis['Year'], rotation=45)\n",
    "plt.tight_layout()\n",
    "\n",
    "# Show the plot\n",
    "plt.show()\n"
   ]
  },
  {
   "cell_type": "code",
   "execution_count": null,
   "metadata": {},
   "outputs": [],
   "source": [
    "# Calculate the number of unique repositories for each year\n",
    "unique_repos_per_year = main_df.groupby('created_year')['repository'].nunique().reset_index()\n",
    "unique_repos_per_year.columns = ['Year', 'Number of repositories']\n",
    "\n",
    "# Merge the trend analysis with the unique repositories data\n",
    "trend_with_repos = pd.merge(trend_analysis, unique_repos_per_year, on='Year')\n",
    "\n",
    "# Display the merged trend analysis with unique repositories\n",
    "\n",
    "trend_with_repos\n"
   ]
  },
  {
   "cell_type": "code",
   "execution_count": null,
   "metadata": {},
   "outputs": [],
   "source": [
    "plt.figure(figsize=(12, 6))\n",
    "plt.plot(trend_with_repos['Year'], trend_with_repos['Number of issues'], marker='o', label='Number of issues')\n",
    "plt.plot(trend_with_repos['Year'], trend_with_repos['Number of repositories'], marker='s', label='Number of repositories', linestyle='--')\n",
    "#plt.title('Involvement of issues and repositories over years')\n",
    "plt.xlabel('Year')\n",
    "plt.ylabel('Count')\n",
    "plt.legend()\n",
    "plt.grid(True)\n",
    "plt.xticks(trend_with_repos['Year'], rotation=45)\n",
    "plt.tight_layout()\n",
    "\n",
    "# Show the plot\n",
    "plt.show()\n"
   ]
  },
  {
   "cell_type": "code",
   "execution_count": null,
   "metadata": {},
   "outputs": [],
   "source": []
  }
 ],
 "metadata": {
  "kernelspec": {
   "display_name": "Python 3",
   "language": "python",
   "name": "python3"
  },
  "language_info": {
   "codemirror_mode": {
    "name": "ipython",
    "version": 3
   },
   "file_extension": ".py",
   "mimetype": "text/x-python",
   "name": "python",
   "nbconvert_exporter": "python",
   "pygments_lexer": "ipython3",
   "version": "3.10.7"
  }
 },
 "nbformat": 4,
 "nbformat_minor": 2
}
