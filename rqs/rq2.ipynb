{
 "cells": [
  {
   "cell_type": "code",
   "execution_count": null,
   "metadata": {},
   "outputs": [],
   "source": [
    "import pandas as pd\n",
    "\n",
    "# Load the dataset\n",
    "file_path = 'all_issues_sampled_v2.xlsx'\n",
    "df = pd.read_excel(file_path)\n",
    "\n",
    "# Step 1: Create a subset of the dataset separating 'No miscommunication' from the rest\n",
    "miscommunication_df = df[df['Types of miscommunication'] != 'No miscommunication']\n",
    "miscommunication_df = miscommunication_df[miscommunication_df['Types of miscommunication'] != 'Others']\n",
    "\n",
    "\n",
    "# Step 2: Perform a value count on the 'Timing' column for this subset\n",
    "timing_counts = miscommunication_df['Timing'].value_counts()\n",
    "\n",
    "# Calculate the percentage of each timing occurrence\n",
    "timing_percentage = (timing_counts / timing_counts.sum()) * 100\n",
    "\n",
    "# Create a DataFrame with the timing counts and their corresponding percentages\n",
    "timing_df = pd.DataFrame({\n",
    "    'Timing': timing_counts.index,\n",
    "    'Count': timing_counts.values,\n",
    "    'Percentage (%)': timing_percentage.values\n",
    "})\n",
    "\n",
    "# Exclude 'Duplicate issue' from the DataFrame and group by 'Types of miscommunication' and 'Timing'\n",
    "non_duplicate_df = miscommunication_df[miscommunication_df['Timing'] != 'Others']\n",
    "non_duplicate_grouped = non_duplicate_df.groupby(['Types of miscommunication', 'Timing']).size().reset_index(name='Count')\n",
    "\n",
    "# Calculate the percentage for each type of miscommunication and timing\n",
    "non_duplicate_grouped['Percentage (%)'] = (non_duplicate_grouped['Count'] / non_duplicate_grouped['Count'].sum()) * 100\n",
    "\n",
    "# Pivot the table to get counts and percentages in a combined format\n",
    "non_duplicate_pivot = non_duplicate_grouped.pivot(index='Types of miscommunication', columns='Timing', values='Count').fillna(0)\n",
    "non_duplicate_pivot_percentage = non_duplicate_grouped.pivot(index='Types of miscommunication', columns='Timing', values='Percentage (%)').fillna(0)\n",
    "combined_non_duplicate_df = non_duplicate_pivot.astype(int).astype(str) + \" (\" + non_duplicate_pivot_percentage.round(2).astype(str) + \"%)\"\n",
    "\n",
    "# Recalculate counts and percentages within each type of miscommunication\n",
    "grouped_by_type = non_duplicate_df.groupby(['Types of miscommunication', 'Timing']).size().unstack(fill_value=0)\n",
    "\n",
    "# Calculate the total counts for each type of miscommunication\n",
    "totals_by_type = grouped_by_type.sum(axis=1)\n",
    "\n",
    "# Calculate the percentage for each timing occurrence within each type of miscommunication\n",
    "percentages_within_type = grouped_by_type.div(totals_by_type, axis=0) * 100\n",
    "\n",
    "# Combine counts and percentages into a single DataFrame\n",
    "combined_within_type_df = grouped_by_type.astype(int).astype(str) + \" (\" + percentages_within_type.round(2).astype(str) + \"%)\"\n",
    "combined_within_type_df"
   ]
  },
  {
   "cell_type": "code",
   "execution_count": null,
   "metadata": {},
   "outputs": [],
   "source": [
    "df['Timing'].value_counts()"
   ]
  },
  {
   "cell_type": "code",
   "execution_count": null,
   "metadata": {},
   "outputs": [],
   "source": [
    "timing_df"
   ]
  },
  {
   "cell_type": "code",
   "execution_count": null,
   "metadata": {},
   "outputs": [],
   "source": [
    "non_duplicate_df['Timing'].value_counts(normalize=True)"
   ]
  },
  {
   "cell_type": "code",
   "execution_count": null,
   "metadata": {},
   "outputs": [],
   "source": [
    "non_duplicate_df['Timing'].value_counts()"
   ]
  },
  {
   "cell_type": "code",
   "execution_count": null,
   "metadata": {},
   "outputs": [],
   "source": [
    "miscommunication_df"
   ]
  },
  {
   "cell_type": "code",
   "execution_count": null,
   "metadata": {},
   "outputs": [],
   "source": [
    "miscommunication_df['state'].value_counts()"
   ]
  },
  {
   "cell_type": "code",
   "execution_count": null,
   "metadata": {},
   "outputs": [],
   "source": [
    "miscommunication_df['Root cause'].value_counts()"
   ]
  },
  {
   "cell_type": "code",
   "execution_count": null,
   "metadata": {},
   "outputs": [],
   "source": [
    "miscommunication_df['Root cause'].value_counts(normalize=True)"
   ]
  },
  {
   "cell_type": "code",
   "execution_count": null,
   "metadata": {},
   "outputs": [],
   "source": []
  }
 ],
 "metadata": {
  "kernelspec": {
   "display_name": "Python 3",
   "language": "python",
   "name": "python3"
  },
  "language_info": {
   "codemirror_mode": {
    "name": "ipython",
    "version": 3
   },
   "file_extension": ".py",
   "mimetype": "text/x-python",
   "name": "python",
   "nbconvert_exporter": "python",
   "pygments_lexer": "ipython3",
   "version": "3.10.7"
  }
 },
 "nbformat": 4,
 "nbformat_minor": 2
}
