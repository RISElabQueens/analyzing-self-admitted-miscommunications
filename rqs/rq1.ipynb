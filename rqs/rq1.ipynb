{
 "cells": [
  {
   "cell_type": "code",
   "execution_count": null,
   "metadata": {},
   "outputs": [],
   "source": [
    "import pandas as pd"
   ]
  },
  {
   "cell_type": "code",
   "execution_count": null,
   "metadata": {},
   "outputs": [],
   "source": [
    "df = pd.read_excel(\"all_issues_sampled_v2.xlsx\")"
   ]
  },
  {
   "cell_type": "code",
   "execution_count": null,
   "metadata": {},
   "outputs": [],
   "source": [
    "df"
   ]
  },
  {
   "cell_type": "code",
   "execution_count": null,
   "metadata": {},
   "outputs": [],
   "source": [
    "#f['Types of miscommunication'] = df['Types of miscommunication'].str.strip()\n",
    "miscommunication_counts=df['Types of miscommunication'].value_counts()\n",
    "miscommunication_counts"
   ]
  },
  {
   "cell_type": "code",
   "execution_count": null,
   "metadata": {},
   "outputs": [],
   "source": [
    "miscommunication_counts=df['Types of miscommunication'].value_counts()\n",
    "miscommunication_counts"
   ]
  },
  {
   "cell_type": "code",
   "execution_count": null,
   "metadata": {},
   "outputs": [],
   "source": [
    "# Separate the 'No miscommunication' from the rest\n",
    "no_miscommunication_count = miscommunication_counts['No miscommunication']\n",
    "total_with_miscommunication = 363 - no_miscommunication_count\n",
    "\n",
    "# Exclude 'No miscommunication' and calculate the percentage of each type of miscommunication\n",
    "miscommunication_only = miscommunication_counts.drop('No miscommunication')\n",
    "miscommunication_percentage = (miscommunication_only / total_with_miscommunication) * 100\n",
    "\n",
    "miscommunication_percentage\n"
   ]
  },
  {
   "cell_type": "code",
   "execution_count": null,
   "metadata": {},
   "outputs": [],
   "source": [
    "# Separate the 'No miscommunication' from the rest\n",
    "no_miscommunication_count = miscommunication_counts['No miscommunication']\n",
    "total_with_miscommunication = 363 - no_miscommunication_count\n",
    "\n",
    "# Exclude 'No miscommunication' and calculate the percentage of each type of miscommunication\n",
    "miscommunication_only = miscommunication_counts.drop('No miscommunication')\n",
    "miscommunication_percentage = (miscommunication_only / total_with_miscommunication) * 100\n",
    "\n",
    "miscommunication_percentage"
   ]
  },
  {
   "cell_type": "code",
   "execution_count": null,
   "metadata": {},
   "outputs": [],
   "source": [
    "summary_df = pd.DataFrame({\n",
    "    'Count': miscommunication_only,\n",
    "    'Percentage (%)': miscommunication_percentage\n",
    "})\n",
    "summary_df"
   ]
  },
  {
   "cell_type": "code",
   "execution_count": null,
   "metadata": {},
   "outputs": [],
   "source": []
  }
 ],
 "metadata": {
  "kernelspec": {
   "display_name": "Python 3",
   "language": "python",
   "name": "python3"
  },
  "language_info": {
   "codemirror_mode": {
    "name": "ipython",
    "version": 3
   },
   "file_extension": ".py",
   "mimetype": "text/x-python",
   "name": "python",
   "nbconvert_exporter": "python",
   "pygments_lexer": "ipython3",
   "version": "3.10.7"
  }
 },
 "nbformat": 4,
 "nbformat_minor": 2
}
